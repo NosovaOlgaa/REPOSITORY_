{
 "cells": [
  {
   "cell_type": "code",
   "execution_count": 7,
   "metadata": {},
   "outputs": [
    {
     "name": "stdout",
     "output_type": "stream",
     "text": [
      "Фраза 1 длиннее фразы 2\n"
     ]
    }
   ],
   "source": [
    "'''Даны 2 переменных, в которых хранятся строки произвольной длины: phrase_1 и phrase_2.\n",
    "Напишите код, который проверяет какая из этих строк длиннее.'''\n",
    "\n",
    "phrase_1 = 'Насколько проще было бы писать программы, если бы не заказчики'\n",
    "phrase_2 = '640Кб должно хватить для любых задач. Билл Гейтс (по легенде)'\n",
    "\n",
    "if len(phrase_1)>len(phrase_2):\n",
    "    print('Фраза 1 длиннее фразы 2')\n",
    "elif len(phrase_1)<len(phrase_2):\n",
    "    print('Фраза 2 длиннее фразы 1')\n",
    "else: print('Фраза 2 равна фразе 1')"
   ]
  },
  {
   "cell_type": "code",
   "execution_count": 25,
   "metadata": {},
   "outputs": [
    {
     "name": "stdout",
     "output_type": "stream",
     "text": [
      "Високосный год\n"
     ]
    }
   ],
   "source": [
    "'''Дана переменная, в которой хранится четырехзначное число (год). \n",
    "Необходимо написать программу, которая выведет, является ли данный год високосным или обычным.'''\n",
    "year = 2000\n",
    "\n",
    "if year % 4 != 0:\n",
    "    print(\"Обычный\")\n",
    "    \n",
    "elif year % 100 == 0:\n",
    "    if year % 400 == 0:\n",
    "        print('Високосный год')\n",
    "    else:\n",
    "        print('Обычный год')\n",
    "        \n",
    "else:\n",
    "    print('Високосный год')"
   ]
  },
  {
   "cell_type": "code",
   "execution_count": 3,
   "metadata": {},
   "outputs": [
    {
     "name": "stdout",
     "output_type": "stream",
     "text": [
      "Введите день рождения - 20\n",
      "Введите месяц рождения (буквами, начиная с заглавной) - Сентябрь\n",
      "Ваш знак зодиака: Дева\n"
     ]
    }
   ],
   "source": [
    "'''Необходимо написать программу, \n",
    "которая будет запрашивать у пользователя месяц и дату рождения и выводить соответствующий знак зодиака.'''\n",
    "date_of_birth = int(input('Введите день рождения - '))\n",
    "month_of_birth = input('Введите месяц рождения (буквами, начиная с заглавной) - ')\n",
    "\n",
    "if (date_of_birth>=21 and month_of_birth=='Март') or (date_of_birth<=20 and month_of_birth=='Апрель'):\n",
    "   print('Ваш знак зодиака: Овен')\n",
    "\n",
    "elif (date_of_birth>=21 and month_of_birth=='Апрель') or (date_of_birth<=21 and month_of_birth=='Май'):\n",
    "   print('Ваш знак зодиака: Телец')\n",
    "\n",
    "elif (date_of_birth>=22 and month_of_birth=='Май') or (date_of_birth<=21 and month_of_birth=='Июнь'):\n",
    "   print('Ваш знак зодиака: Близнецы')\n",
    "\n",
    "elif (date_of_birth>=22 and month_of_birth=='Июнь') or (date_of_birth<=22 and month_of_birth=='Июль'):\n",
    "   print('Ваш знак зодиака: Рак')\n",
    "\n",
    "elif (date_of_birth>=23 and month_of_birth=='Июль') or (date_of_birth<=21 and month_of_birth=='Август'):\n",
    "   print('Ваш знак зодиака: Лев')\n",
    "\n",
    "elif (date_of_birth>=22 and month_of_birth=='Август') or (date_of_birth<=23 and month_of_birth=='Сентябрь'):\n",
    "   print('Ваш знак зодиака: Дева')\n",
    "\n",
    "elif (date_of_birth>=24 and month_of_birth=='Сентябрь') or (date_of_birth<=23 and month_of_birth=='Октябрь'):\n",
    "   print('Ваш знак зодиака: Весы')\n",
    "\n",
    "elif (date_of_birth>=24 and month_of_birth=='Октябрь') or (date_of_birth<=22 and month_of_birth=='Ноябрь'):\n",
    "   print('Ваш знак зодиака: Скорпион')\n",
    "\n",
    "elif (date_of_birth>=23 and month_of_birth=='Ноябрь') or (date_of_birth<=22 and month_of_birth=='Декабрь'):\n",
    "   print('Ваш знак зодиака: Стрелец')\n",
    "\n",
    "elif (date_of_birth>=23 and month_of_birth=='Декабрь') or (date_of_birth<=20 and month_of_birth=='Январь'):\n",
    "   print('Ваш знак зодиака: Козерог')\n",
    "\n",
    "elif (date_of_birth>=21 and month_of_birth=='Январь') or (date_of_birth<=19 and month_of_birth=='Февраль'):\n",
    "   print('Ваш знак зодиака: Водолей')\n",
    "\n",
    "elif (date_of_birth>=20 and month_of_birth=='Февраль') or (date_of_birth<=20 and month_of_birth=='Март'):\n",
    "   print('Ваш знак зодиака: Рыбы')\n"
   ]
  },
  {
   "cell_type": "code",
   "execution_count": 30,
   "metadata": {},
   "outputs": [
    {
     "name": "stdout",
     "output_type": "stream",
     "text": [
      "Упаковка для лыж\n"
     ]
    }
   ],
   "source": [
    "'''Вам нужно написать программу для подбора упаковок по размерам товара. Размеры хранятся в переменных (в сантиметрах):\n",
    "\n",
    "width = 10\n",
    "length = 205\n",
    "height = 5\n",
    "Используйте следующие правила:\n",
    "\n",
    "*если каждое из трех измерений менее 15 сантиметров, то выведите на экран “Коробка №1”;\n",
    "*если хотя бы одно из измерений больше 15 сантиметров, но менее 50 сантиметров, то выводите “Коробка №2”;\n",
    "*если длина товара больше 2 метров, то выводите “Упаковка для лыж”;\n",
    "во всех остальных случаях выводите “Стандартная коробка №3”.'''\n",
    "\n",
    "width = 10\n",
    "length = 205\n",
    "height = 5\n",
    "\n",
    "#width = 45\n",
    "#length = 205\n",
    "#height = 45\n",
    "\n",
    "if width<15 and length<15 and height<15:\n",
    "        print('Коробка №1')\n",
    "elif 15<width<50 or 15<length<50 or 15<height<50:\n",
    "        print('Коробка №2')\n",
    "elif length>200:\n",
    "        print('Упаковка для лыж')\n",
    "else: print('Стандартная коробка №3')"
   ]
  },
  {
   "cell_type": "code",
   "execution_count": 5,
   "metadata": {},
   "outputs": [
    {
     "name": "stdout",
     "output_type": "stream",
     "text": [
      "Счастливый билет\n"
     ]
    }
   ],
   "source": [
    "'''Дана переменная, в которой хранится шестизначное число (номер проездного билета). \n",
    "Напишите программу, которая будет определять, является ли данный билет “счастливым”. \n",
    "Билет считается счастливым, если сумма первых трех цифр совпадает с суммой последних трех цифр номера.'''\n",
    "\n",
    "number = '123321'\n",
    "\n",
    "sum_1=int(number[0])+int(number[1])+int(number[2])\n",
    "sum_2=int(number[3])+int(number[4])+int(number[5])\n",
    "if sum_1==sum_2:\n",
    "      print('Счастливый билет')\n",
    "else:\n",
    "      print('Несчастливый билет')"
   ]
  },
  {
   "cell_type": "code",
   "execution_count": 6,
   "metadata": {},
   "outputs": [
    {
     "name": "stdout",
     "output_type": "stream",
     "text": [
      "Введите тип фигуры - Круг\n",
      "Введите радиус круга - 10\n",
      "Площадь круга =  314.16\n"
     ]
    }
   ],
   "source": [
    "'''Напишите программу, которая сможет вычислять площади трех фигур (круг, треугольник и прямоугольник).\n",
    "Тип фигуры запрашиваем через пользовательский ввод, после чего делаем запрос характеристик фигуры:\n",
    "\n",
    "если пользователь выбрал круг, запрашиваем его радиус,\n",
    "если треугольник – длины трех его сторон;\n",
    "если прямоугольник – длины двух его сторон.'''\n",
    "\n",
    "import math\n",
    "geometric_figure = input('Введите тип фигуры - ')\n",
    "\n",
    "if geometric_figure == 'Круг':\n",
    "    radius = int(input('Введите радиус круга - '))\n",
    "    S = math.pi*(radius**2)\n",
    "    \n",
    "elif geometric_figure == 'Треугольник':    \n",
    "    a = int(input('Введите длину стороны а - '))\n",
    "    b = int(input('Введите длину стороны b - '))\n",
    "    c = int(input('Введите длину стороны c - '))\n",
    "    P = (a+b+c)/2\n",
    "    S = math.sqrt(P * (P-a) * (P-b) * (P-c))\n",
    "    \n",
    "elif geometric_figure == 'Прямоугольник':  \n",
    "    a = int(input('Введите длину стороны а - '))\n",
    "    b = int(input('Введите длину стороны b - '))\n",
    "    S = a*b\n",
    "    \n",
    "if geometric_figure == 'Круг': \n",
    "    print('Площадь круга = ',round(S, 2))\n",
    "elif geometric_figure == 'Треугольник': \n",
    "    print('Площадь треугольника = ',round(S, 2))\n",
    "elif geometric_figure == 'Прямоугольник': \n",
    "    print('Площадь прямоугольника = ',round(S, 2))"
   ]
  }
 ],
 "metadata": {
  "kernelspec": {
   "display_name": "Python 3",
   "language": "python",
   "name": "python3"
  },
  "language_info": {
   "codemirror_mode": {
    "name": "ipython",
    "version": 3
   },
   "file_extension": ".py",
   "mimetype": "text/x-python",
   "name": "python",
   "nbconvert_exporter": "python",
   "pygments_lexer": "ipython3",
   "version": "3.8.5"
  }
 },
 "nbformat": 4,
 "nbformat_minor": 4
}
